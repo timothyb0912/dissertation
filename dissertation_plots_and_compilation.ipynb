{
 "cells": [
  {
   "cell_type": "code",
   "execution_count": 1,
   "metadata": {
    "scrolled": true
   },
   "outputs": [],
   "source": [
    "import os\n",
    "import subprocess\n",
    "import seaborn\n",
    "import numpy as np\n",
    "import matplotlib.pyplot as plt\n",
    "\n",
    "%matplotlib inline"
   ]
  },
  {
   "cell_type": "code",
   "execution_count": 2,
   "metadata": {},
   "outputs": [
    {
     "name": "stderr",
     "output_type": "stream",
     "text": [
      "/Users/timothyb0912/anaconda/lib/python2.7/site-packages/matplotlib/figure.py:402: UserWarning: matplotlib is currently using a non-GUI backend, so cannot show the figure\n",
      "  \"matplotlib is currently using a non-GUI backend, \"\n"
     ]
    },
    {
     "data": {
      "image/png": "[encoded data removed]",
      "text/plain": [
       "<matplotlib.figure.Figure at 0x10de03b90>"
      ]
     },
     "metadata": {
      "needs_background": "light"
     },
     "output_type": "display_data"
    }
   ],
   "source": [
    "fig, axes = plt.subplots(ncols=2, figsize=(20, 6))\n",
    "\n",
    "axes[0].bar([0, 1], [153, 469])\n",
    "axes[0].annotate('153', (-0.03, 155), fontsize=13)\n",
    "axes[0].annotate('469', (0.97, 471), fontsize=13)\n",
    "axes[0].set_xticks([0, 1])\n",
    "axes[0].set_xticklabels(['Design Option 1', 'Design Option 2\\nWorst-Case'],\n",
    "                        fontsize=13)\n",
    "axes[0].set_ylabel('Expected Number of Increased\\nCycling Tours in Oakland, CA',\n",
    "                   fontsize=13)\n",
    "\n",
    "axes[1].bar([0, 1], [6.64, 7.1])\n",
    "axes[1].annotate('6.64', (-0.03, 6.66), fontsize=13)\n",
    "axes[1].annotate('7.1', (0.97, 7.15), fontsize=13)\n",
    "\n",
    "axes[1].hlines(6.42, -0.5, 1.5, label='2014 Baseline')\n",
    "\n",
    "axes[1].set_xticks([0, 1])\n",
    "axes[1].set_xticklabels(['Design Option 1', 'Design Option 2\\nWorst-Case'],\n",
    "                        fontsize=13)\n",
    "axes[1].set_ylabel('Expected Bicycle Mode Share (%) for Oakland, CA',\n",
    "                   fontsize=13)\n",
    "axes[1].legend(loc='best', fontsize=13)\n",
    "\n",
    "fig.tight_layout()\n",
    "fig.savefig('./chapter2/images/forecast_results.pdf',\n",
    "            dpi=500,\n",
    "            bbox_inches='tight')\n",
    "fig.show()"
   ]
  },
  {
   "cell_type": "markdown",
   "metadata": {},
   "source": [
    "# Dissertation compilation"
   ]
  },
  {
   "cell_type": "code",
   "execution_count": 3,
   "metadata": {},
   "outputs": [],
   "source": [
    "import os\n",
    "import subprocess"
   ]
  },
  {
   "cell_type": "code",
   "execution_count": 4,
   "metadata": {},
   "outputs": [
    {
     "name": "stdout",
     "output_type": "stream",
     "text": [
      "Beginning dissertation compilation.\n",
      "Finished compiling dissertation.\n"
     ]
    }
   ],
   "source": [
    "# Create the script to compile the dissertation\n",
    "def compile_dissertation():\n",
    "    # Print a beginning message\n",
    "    print(\"Beginning dissertation compilation.\")\n",
    "    # Set the current working directory\n",
    "    dissertation_path = './'\n",
    "    os.chdir(dissertation_path)\n",
    "\n",
    "    # Create the subprocess commands\n",
    "    main_compile_command =\\\n",
    "        ['pdflatex', '--interaction=nonstop', 'dissertation.tex']\n",
    "    bibtex_dissertation = ['bibtex', 'dissertation.aux']\n",
    "    build_cmds = [main_compile_command,\n",
    "                  bibtex_dissertation,\n",
    "                  ['bibtex', 'chapter1/current/ch1.aux'],\n",
    "                  ['bibtex', 'chapter2/current/ch2.aux'],\n",
    "                  ['bibtex', 'chapter3/current/ch3.aux'],\n",
    "                  ['bibtex', 'chapter4/current/ch4.aux'],\n",
    "                  ['bibtex', 'chapter5/current/ch5.aux'],\n",
    "                  main_compile_command,\n",
    "                  main_compile_command]\n",
    "\n",
    "    # Execute the commands\n",
    "    for cmd in build_cmds:\n",
    "        subprocess.call(cmd,\n",
    "                        stderr=subprocess.STDOUT)\n",
    "\n",
    "    # Declare endings and base filepaths for unwanted files\n",
    "    unwanted_endings =\\\n",
    "        ['.aux', '.lof', '.lot', '.out',\n",
    "         '.toc', '.bbl', '.blg', '.tex.bak',\n",
    "         '.bib.bak']\n",
    "    filepaths = ['dissertation',\n",
    "                 'abstract/v3/abstract',\n",
    "                 'chapter1/current/ch1',\n",
    "                 'chapter2/current/ch2',\n",
    "                 'chapter3/current/ch3',\n",
    "                 'chapter4/current/ch4',\n",
    "                 'chapter5/current/ch5',\n",
    "                 'conclusion/current/conclusion']\n",
    "\n",
    "    # Cleanup unwanted files\n",
    "    for ending in unwanted_endings:\n",
    "        for path in filepaths:\n",
    "            unwanted_file = path + '{}'.format(ending)\n",
    "            if os.path.exists(unwanted_file):\n",
    "                os.remove(unwanted_file)\n",
    "\n",
    "    # Print a finished message\n",
    "    print(\"Finished compiling dissertation.\")\n",
    "    return\n",
    "\n",
    "compile_dissertation()"
   ]
  }
 ],
 "metadata": {
  "jupytext": {
   "formats": "ipynb,py"
  },
  "kernelspec": {
   "display_name": "Python 2",
   "language": "python",
   "name": "python2"
  },
  "language_info": {
   "codemirror_mode": {
    "name": "ipython",
    "version": 2
   },
   "file_extension": ".py",
   "mimetype": "text/x-python",
   "name": "python",
   "nbconvert_exporter": "python",
   "pygments_lexer": "ipython2",
   "version": "2.7.15"
  }
 },
 "nbformat": 4,
 "nbformat_minor": 1
}
